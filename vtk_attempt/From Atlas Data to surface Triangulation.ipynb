{
 "cells": [
  {
   "cell_type": "markdown",
   "metadata": {},
   "source": [
    "## Reading Data"
   ]
  },
  {
   "cell_type": "code",
   "execution_count": 1,
   "metadata": {
    "ExecuteTime": {
     "end_time": "2018-07-20T19:41:16.858986Z",
     "start_time": "2018-07-20T19:41:16.471282Z"
    }
   },
   "outputs": [
    {
     "name": "stdout",
     "output_type": "stream",
     "text": [
      "Populating the interactive namespace from numpy and matplotlib\n"
     ]
    }
   ],
   "source": [
    "%pylab inline"
   ]
  },
  {
   "cell_type": "code",
   "execution_count": 2,
   "metadata": {
    "ExecuteTime": {
     "end_time": "2018-07-20T19:41:19.300897Z",
     "start_time": "2018-07-20T19:41:19.157512Z"
    }
   },
   "outputs": [
    {
     "name": "stdout",
     "output_type": "stream",
     "text": [
      "total 3073344\r\n",
      "-rw-r--r--  1 yoavfreund  staff   1.5G Jul  4 16:02 compressed_atlas.npy\r\n",
      "-rw-r--r--  1 yoavfreund  staff   3.9K Jul  4 16:20 meta_information.pkl\r\n"
     ]
    }
   ],
   "source": [
    "!ls -lh v_atlas/"
   ]
  },
  {
   "cell_type": "code",
   "execution_count": 14,
   "metadata": {
    "ExecuteTime": {
     "end_time": "2018-07-20T19:45:38.944138Z",
     "start_time": "2018-07-20T19:45:36.223625Z"
    }
   },
   "outputs": [],
   "source": [
    "tbl=np.load('v_atlas/compressed_atlas.npy')"
   ]
  },
  {
   "cell_type": "code",
   "execution_count": 4,
   "metadata": {
    "ExecuteTime": {
     "end_time": "2018-07-20T19:41:28.051859Z",
     "start_time": "2018-07-20T19:41:28.046036Z"
    }
   },
   "outputs": [
    {
     "data": {
      "text/plain": [
       "(625, 571, 551)"
      ]
     },
     "execution_count": 4,
     "metadata": {},
     "output_type": "execute_result"
    }
   ],
   "source": [
    "tbl.shape"
   ]
  },
  {
   "cell_type": "code",
   "execution_count": 5,
   "metadata": {
    "ExecuteTime": {
     "end_time": "2018-07-20T19:42:17.304929Z",
     "start_time": "2018-07-20T19:41:49.701744Z"
    }
   },
   "outputs": [],
   "source": [
    "from collections import Counter\n",
    "c=Counter(tbl.flatten())"
   ]
  },
  {
   "cell_type": "code",
   "execution_count": 30,
   "metadata": {
    "ExecuteTime": {
     "end_time": "2018-07-20T20:39:44.303954Z",
     "start_time": "2018-07-20T20:39:44.300380Z"
    }
   },
   "outputs": [
    {
     "data": {
      "text/plain": [
       "184352361"
      ]
     },
     "execution_count": 30,
     "metadata": {},
     "output_type": "execute_result"
    }
   ],
   "source": [
    "c[0]"
   ]
  },
  {
   "cell_type": "code",
   "execution_count": 32,
   "metadata": {
    "ExecuteTime": {
     "end_time": "2018-07-20T20:45:28.593238Z",
     "start_time": "2018-07-20T20:40:33.150079Z"
    }
   },
   "outputs": [
    {
     "name": "stdout",
     "output_type": "stream",
     "text": [
      "0 (1353671, 3) (2707242, 3)\n",
      "1 (57092, 3) (114180, 3)\n",
      "2 (57092, 3) (114180, 3)\n",
      "3 (13312, 3) (26620, 3)\n",
      "4 (13312, 3) (26620, 3)\n",
      "5 (230444, 3) (460884, 3)\n",
      "6 (11878, 3) (23752, 3)\n",
      "7 (11878, 3) (23752, 3)\n",
      "8 (36510, 3) (73104, 3)\n",
      "9 (37623, 3) (75378, 3)\n",
      "12 (4406, 3) (8808, 3)\n",
      "13 (4406, 3) (8808, 3)\n",
      "14 (52239, 3) (104582, 3)\n",
      "15 (14231, 3) (28478, 3)\n",
      "16 (12819, 3) (25646, 3)\n",
      "17 (198366, 3) (396728, 3)\n",
      "18 (24064, 3) (48124, 3)\n",
      "19 (24064, 3) (48124, 3)\n",
      "20 (10656, 3) (21308, 3)\n",
      "21 (10656, 3) (21308, 3)\n",
      "22 (3528, 3) (7052, 3)\n",
      "23 (3528, 3) (7052, 3)\n",
      "24 (720, 3) (1436, 3)\n",
      "25 (720, 3) (1436, 3)\n",
      "26 (14348, 3) (28700, 3)\n",
      "27 (14676, 3) (29348, 3)\n",
      "28 (27652, 3) (55300, 3)\n",
      "29 (27652, 3) (55300, 3)\n",
      "30 (25364, 3) (50732, 3)\n",
      "31 (25130, 3) (50256, 3)\n",
      "32 (4731, 3) (9462, 3)\n",
      "33 (8102, 3) (16200, 3)\n",
      "34 (8102, 3) (16200, 3)\n",
      "35 (50019, 3) (100038, 3)\n",
      "36 (50019, 3) (100038, 3)\n",
      "37 (1388, 3) (2772, 3)\n",
      "38 (1388, 3) (2772, 3)\n",
      "39 (25030, 3) (50180, 3)\n",
      "40 (25030, 3) (50180, 3)\n",
      "41 (3876, 3) (7756, 3)\n",
      "42 (3876, 3) (7756, 3)\n",
      "43 (7352, 3) (14716, 3)\n",
      "44 (7352, 3) (14716, 3)\n",
      "45 (14541, 3) (29190, 3)\n",
      "46 (14541, 3) (29190, 3)\n",
      "47 (1828, 3) (3652, 3)\n",
      "48 (1828, 3) (3652, 3)\n",
      "49 (36762, 3) (73544, 3)\n",
      "50 (36762, 3) (73544, 3)\n",
      "51 (22990, 3) (45976, 3)\n",
      "52 (22990, 3) (45976, 3)\n",
      "53 (33784, 3) (67916, 3)\n",
      "54 (2985, 3) (6018, 3)\n",
      "55 (3588, 3) (7236, 3)\n",
      "56 (5351, 3) (10702, 3)\n",
      "57 (4882, 3) (9776, 3)\n",
      "58 (5350, 3) (10696, 3)\n",
      "59 (8994, 3) (17984, 3)\n",
      "60 (63473, 3) (126974, 3)\n",
      "61 (63473, 3) (126974, 3)\n",
      "62 (8994, 3) (17984, 3)\n"
     ]
    }
   ],
   "source": [
    "from skimage.measure import marching_cubes_lewiner,marching_cubes\n",
    "blob_index=[]\n",
    "kwargs={}\n",
    "for index in c.keys():\n",
    "    if c[index]<10:\n",
    "        continue\n",
    "    blob_index.append(index)\n",
    "    blob=1.*(tbl==index)    \n",
    "    X=marching_cubes_lewiner(blob)\n",
    "    print(index,X[0].shape,X[1].shape)\n",
    "    kwargs['points_'+str(index)]=X[0]\n",
    "    kwargs['triangles_'+str(index)]=X[1]\n",
    "\n",
    "kwargs['index']=np.array(blob_index)\n",
    "\n",
    "np.savez('tessaltions',**kwargs)"
   ]
  },
  {
   "cell_type": "code",
   "execution_count": 38,
   "metadata": {
    "ExecuteTime": {
     "end_time": "2018-07-20T20:48:09.573376Z",
     "start_time": "2018-07-20T20:48:09.435644Z"
    }
   },
   "outputs": [
    {
     "name": "stdout",
     "output_type": "stream",
     "text": [
      "-rw-r--r--  1 yoavfreund  staff    99M Jul 20 13:45 tessaltions.npz\r\n",
      "-rw-r--r--  1 yoavfreund  staff    29M Jul 20 13:48 tessaltions_compressed.npz\r\n"
     ]
    }
   ],
   "source": [
    "!ls -lh tessaltions*.npz"
   ]
  },
  {
   "cell_type": "code",
   "execution_count": 37,
   "metadata": {
    "ExecuteTime": {
     "end_time": "2018-07-20T20:48:09.433063Z",
     "start_time": "2018-07-20T20:48:00.365260Z"
    }
   },
   "outputs": [],
   "source": [
    "np.savez_compressed('tessaltions_compressed',**kwargs)"
   ]
  },
  {
   "cell_type": "code",
   "execution_count": null,
   "metadata": {},
   "outputs": [],
   "source": []
  },
  {
   "cell_type": "code",
   "execution_count": 34,
   "metadata": {
    "ExecuteTime": {
     "end_time": "2018-07-20T20:46:44.568354Z",
     "start_time": "2018-07-20T20:46:44.558751Z"
    }
   },
   "outputs": [
    {
     "data": {
      "text/plain": [
       "['points_0',\n",
       " 'triangles_0',\n",
       " 'points_1',\n",
       " 'triangles_1',\n",
       " 'points_2',\n",
       " 'triangles_2',\n",
       " 'points_3',\n",
       " 'triangles_3',\n",
       " 'points_4',\n",
       " 'triangles_4',\n",
       " 'points_5',\n",
       " 'triangles_5',\n",
       " 'points_6',\n",
       " 'triangles_6',\n",
       " 'points_7',\n",
       " 'triangles_7',\n",
       " 'points_8',\n",
       " 'triangles_8',\n",
       " 'points_9',\n",
       " 'triangles_9',\n",
       " 'points_12',\n",
       " 'triangles_12',\n",
       " 'points_13',\n",
       " 'triangles_13',\n",
       " 'points_14',\n",
       " 'triangles_14',\n",
       " 'points_15',\n",
       " 'triangles_15',\n",
       " 'points_16',\n",
       " 'triangles_16',\n",
       " 'points_17',\n",
       " 'triangles_17',\n",
       " 'points_18',\n",
       " 'triangles_18',\n",
       " 'points_19',\n",
       " 'triangles_19',\n",
       " 'points_20',\n",
       " 'triangles_20',\n",
       " 'points_21',\n",
       " 'triangles_21',\n",
       " 'points_22',\n",
       " 'triangles_22',\n",
       " 'points_23',\n",
       " 'triangles_23',\n",
       " 'points_24',\n",
       " 'triangles_24',\n",
       " 'points_25',\n",
       " 'triangles_25',\n",
       " 'points_26',\n",
       " 'triangles_26',\n",
       " 'points_27',\n",
       " 'triangles_27',\n",
       " 'points_28',\n",
       " 'triangles_28',\n",
       " 'points_29',\n",
       " 'triangles_29',\n",
       " 'points_30',\n",
       " 'triangles_30',\n",
       " 'points_31',\n",
       " 'triangles_31',\n",
       " 'points_32',\n",
       " 'triangles_32',\n",
       " 'points_33',\n",
       " 'triangles_33',\n",
       " 'points_34',\n",
       " 'triangles_34',\n",
       " 'points_35',\n",
       " 'triangles_35',\n",
       " 'points_36',\n",
       " 'triangles_36',\n",
       " 'points_37',\n",
       " 'triangles_37',\n",
       " 'points_38',\n",
       " 'triangles_38',\n",
       " 'points_39',\n",
       " 'triangles_39',\n",
       " 'points_40',\n",
       " 'triangles_40',\n",
       " 'points_41',\n",
       " 'triangles_41',\n",
       " 'points_42',\n",
       " 'triangles_42',\n",
       " 'points_43',\n",
       " 'triangles_43',\n",
       " 'points_44',\n",
       " 'triangles_44',\n",
       " 'points_45',\n",
       " 'triangles_45',\n",
       " 'points_46',\n",
       " 'triangles_46',\n",
       " 'points_47',\n",
       " 'triangles_47',\n",
       " 'points_48',\n",
       " 'triangles_48',\n",
       " 'points_49',\n",
       " 'triangles_49',\n",
       " 'points_50',\n",
       " 'triangles_50',\n",
       " 'points_51',\n",
       " 'triangles_51',\n",
       " 'points_52',\n",
       " 'triangles_52',\n",
       " 'points_53',\n",
       " 'triangles_53',\n",
       " 'points_54',\n",
       " 'triangles_54',\n",
       " 'points_55',\n",
       " 'triangles_55',\n",
       " 'points_56',\n",
       " 'triangles_56',\n",
       " 'points_57',\n",
       " 'triangles_57',\n",
       " 'points_58',\n",
       " 'triangles_58',\n",
       " 'points_59',\n",
       " 'triangles_59',\n",
       " 'points_60',\n",
       " 'triangles_60',\n",
       " 'points_61',\n",
       " 'triangles_61',\n",
       " 'points_62',\n",
       " 'triangles_62',\n",
       " 'index']"
      ]
     },
     "execution_count": 34,
     "metadata": {},
     "output_type": "execute_result"
    }
   ],
   "source": [
    "Data=np.load('tessaltions.npz')\n",
    "Data.keys()"
   ]
  },
  {
   "cell_type": "code",
   "execution_count": 19,
   "metadata": {
    "ExecuteTime": {
     "end_time": "2018-07-20T19:58:00.082818Z",
     "start_time": "2018-07-20T19:58:00.079302Z"
    }
   },
   "outputs": [
    {
     "data": {
      "text/plain": [
       "numpy.lib.npyio.NpzFile"
      ]
     },
     "execution_count": 19,
     "metadata": {},
     "output_type": "execute_result"
    }
   ],
   "source": [
    "type(Data)"
   ]
  },
  {
   "cell_type": "code",
   "execution_count": 22,
   "metadata": {
    "ExecuteTime": {
     "end_time": "2018-07-20T19:58:41.432359Z",
     "start_time": "2018-07-20T19:58:41.426822Z"
    }
   },
   "outputs": [
    {
     "data": {
      "text/plain": [
       "array([[ 35., 120., 240.],\n",
       "       [ 40., 120., 235.],\n",
       "       [ 40., 115., 240.],\n",
       "       [ 40., 115., 250.],\n",
       "       [ 35., 120., 250.]], dtype=float32)"
      ]
     },
     "execution_count": 22,
     "metadata": {},
     "output_type": "execute_result"
    }
   ],
   "source": [
    "Data['points'][:5,:]"
   ]
  },
  {
   "cell_type": "code",
   "execution_count": 23,
   "metadata": {
    "ExecuteTime": {
     "end_time": "2018-07-20T19:59:07.312332Z",
     "start_time": "2018-07-20T19:59:07.307620Z"
    }
   },
   "outputs": [
    {
     "data": {
      "text/plain": [
       "array([[2, 1, 0],\n",
       "       [4, 3, 0],\n",
       "       [0, 3, 2],\n",
       "       [6, 5, 4],\n",
       "       [4, 5, 3]], dtype=int32)"
      ]
     },
     "execution_count": 23,
     "metadata": {},
     "output_type": "execute_result"
    }
   ],
   "source": [
    "Data['triangles'][:5,:]"
   ]
  },
  {
   "cell_type": "code",
   "execution_count": null,
   "metadata": {},
   "outputs": [],
   "source": []
  }
 ],
 "metadata": {
  "hide_input": false,
  "kernelspec": {
   "display_name": "Python 3",
   "language": "python",
   "name": "python3"
  },
  "language_info": {
   "codemirror_mode": {
    "name": "ipython",
    "version": 3
   },
   "file_extension": ".py",
   "mimetype": "text/x-python",
   "name": "python",
   "nbconvert_exporter": "python",
   "pygments_lexer": "ipython3",
   "version": "3.6.4"
  },
  "toc": {
   "base_numbering": 1,
   "nav_menu": {},
   "number_sections": true,
   "sideBar": true,
   "skip_h1_title": false,
   "title_cell": "Table of Contents",
   "title_sidebar": "Contents",
   "toc_cell": false,
   "toc_position": {},
   "toc_section_display": true,
   "toc_window_display": false
  }
 },
 "nbformat": 4,
 "nbformat_minor": 2
}
